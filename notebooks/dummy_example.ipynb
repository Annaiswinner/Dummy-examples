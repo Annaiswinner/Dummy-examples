{
 "cells": [
  {
   "cell_type": "markdown",
   "metadata": {},
   "source": [
    "<img src=\"EEGRIDAnalytics.png\">"
   ]
  },
  {
   "cell_type": "code",
   "execution_count": null,
   "metadata": {},
   "outputs": [],
   "source": [
    "import pandas as pd\n",
    "import numpy as np\n",
    "import pyodbc\n",
    "\n",
    "\n",
    "import ipywidgets as widgets\n",
    "import json\n",
    "#from ipyleaflet import Map, GeoJSON\n",
    "\n",
    "import datetime as dt\n",
    "import tkinter.messagebox as messagebox\n",
    "import numpy as np\n",
    "from ipyleaflet import *\n",
    "from ipywidgets import *\n"
   ]
  },
  {
   "cell_type": "code",
   "execution_count": 16,
   "metadata": {},
   "outputs": [],
   "source": [
    "ee_basemaps={}\n",
    "ee_basemaps['ARCGIS_Satelite'] = TileLayer(url='https://server.arcgisonline.com/ArcGIS/rest/services/World_Imagery/MapServer/tile/{z}/{y}/{x}')\n",
    "\n",
    "# Loops through all ipyleaflet basemaps\n",
    "for item in basemaps.values():\n",
    "    try:\n",
    "        name = item['name']\n",
    "        basemap = 'basemaps.{}'.format(name)\n",
    "        ee_basemaps[name] = basemap_to_tiles(eval(basemap))\n",
    "    except:\n",
    "        for sub_item in item:\n",
    "            name = item[sub_item]['name']\n",
    "            basemap = 'basemaps.{}'.format(name)\n",
    "            basemap = basemap.replace('Mids', 'Modis')\n",
    "            ee_basemaps[name] = basemap_to_tiles(eval(basemap))\n",
    "list_maps = list(ee_basemaps.keys())\n",
    "list_maps_2 = list_maps[0:2]"
   ]
  },
  {
   "cell_type": "code",
   "execution_count": 18,
   "metadata": {},
   "outputs": [],
   "source": [
    "def change_map_layer(change):\n",
    "    print('layer change start')\n",
    "    basemap_name = change['new']\n",
    "    list_classes1 = [m.layers[jj].__class__.__name__ for jj in range(0,len(m.layers))]\n",
    "    if len(list_classes1)==1:\n",
    "        m.add_layer(ee_basemaps[basemap_name])\n",
    "    else:\n",
    "        list_classes2 = [m.layers[jj].__class__.__name__ for jj in range(1,len(m.layers))]\n",
    "        if 'TileLayer' in list_classes2:\n",
    "            old_basemap1 = m.layers[list_classes2.index('TileLayer')+1]\n",
    "            m.substitute_layer(old_basemap1, ee_basemaps[basemap_name])\n",
    "        else:\n",
    "            m.add_layer(ee_basemaps[basemap_name])\n",
    "            "
   ]
  },
  {
   "cell_type": "code",
   "execution_count": 48,
   "metadata": {},
   "outputs": [],
   "source": [
    "df = pd.read_csv('school_data.csv')"
   ]
  },
  {
   "cell_type": "code",
   "execution_count": 61,
   "metadata": {},
   "outputs": [],
   "source": [
    "zipcode_list = df['properties.ZIP'].unique()"
   ]
  },
  {
   "cell_type": "code",
   "execution_count": 69,
   "metadata": {},
   "outputs": [],
   "source": [
    "def zipcode_control(change):\n",
    "    print(change.new)\n",
    "    if change.new != None:\n",
    "        list_classes_BC = [m.layers[kk].__class__.__name__ for kk in range(0,len(m.layers))]\n",
    "        for items in list_classes_BC:\n",
    "            if items =='Marker':\n",
    "                layer_BN = m.layers[list_classes_BC.index(items)]\n",
    "                m.remove_layer(layer_BN)\n",
    "                \n",
    "        flag = 1\n",
    "        df88_1=df[df['properties.ZIP'] == change.new]\n",
    "#         df88_1 = df[df['properties.ZIP'] == 75253]\n",
    "        for kk in range(len(df88_1)):\n",
    "            x = df88_1['Latitude'].iloc[kk]\n",
    "            y = df88_1['Longtitude'].iloc[kk]\n",
    "        #     bus_fp = df88_1['PSSE New BUS'].iloc[0] \n",
    "\n",
    "            Name = df88_1['properties.Name'].iloc[kk]\n",
    "        #     print(PSSE_New_BUS)\n",
    "        #     PSSE_New_BUS = str(PSSE_New_BUS)\n",
    "            CITY = df88_1['properties.CITY'].iloc[kk]\n",
    "\n",
    "            SCHOOLNAME = df88_1['properties.SCHOOLNAME'].iloc[kk]\n",
    "            ADDRESS = df88_1['properties.ADDRESS'].iloc[kk]\n",
    "        #     County = str(County)\n",
    "\n",
    "\n",
    "            marker = Marker(location = (x,y),draggable=False)\n",
    "\n",
    "            message2 = HTML()\n",
    "            message2.value =\"Name: \"+str(Name)+'<br>'+\"CITY \"+str(CITY)\\\n",
    "                            +'<br>'+'SCHOOLNAME: '+str(SCHOOLNAME)+'<br>'+'ADDRESS: '+str(ADDRESS)\n",
    "\n",
    "            marker.popup = message2\n",
    "\n",
    "\n",
    "\n",
    "            m.add_layer(marker)\n",
    "        #     m.center = (x,y)\n",
    "#             m.zoom = 18\n"
   ]
  },
  {
   "cell_type": "code",
   "execution_count": null,
   "metadata": {},
   "outputs": [],
   "source": []
  },
  {
   "cell_type": "code",
   "execution_count": 70,
   "metadata": {},
   "outputs": [
    {
     "data": {
      "application/vnd.jupyter.widget-view+json": {
       "model_id": "abaa334a1eb640ddabfbe0087a926ce5",
       "version_major": 2,
       "version_minor": 0
      },
      "text/plain": [
       "Map(center=[31.432, -102.4377], controls=(AttributionControl(options=['position', 'prefix'], position='bottomr…"
      ]
     },
     "metadata": {},
     "output_type": "display_data"
    }
   ],
   "source": [
    "center=(31.432,-102.4377)\n",
    "#print(center)\n",
    "m = Map(center=center, zoom_control=False, zoom=5,inertia = True, max_zoom = 30,scroll_wheel_zoom = True, inertia_max_speed = 1500, preferCanvas = True)\n",
    "m.layout.height='500px'\n",
    "\n",
    "full_screen = FullScreenControl(position='bottomleft')\n",
    "m.add_control(full_screen)\n",
    "m.add_control(ZoomControl(position='bottomleft'))\n",
    "\n",
    "dd1 = widgets.Dropdown(options=zipcode_list,value=None,description='Zipcode:',layout=Layout(width='250px'))\n",
    "dd1.observe(zipcode_control, names=\"value\")\n",
    "widget_control2 = WidgetControl(widget=dd1, position='topleft')\n",
    "m.add_control(widget_control2)\n",
    "\n",
    "\n",
    "Map_layer = widgets.Dropdown(options=list_maps_2,value=None,description='BaseMap:')\n",
    "Map_layer.observe(change_map_layer, 'value')\n",
    "base_layer = WidgetControl(widget=Map_layer, position='topright')\n",
    "m.add_control(base_layer)\n",
    "\n",
    "m"
   ]
  },
  {
   "cell_type": "code",
   "execution_count": 67,
   "metadata": {},
   "outputs": [],
   "source": [
    "with open('DISD_Campuses.geojson', 'r') as f:\n",
    "    data = json.load(f)\n",
    "features = data['features']\n",
    "marker_c = []\n",
    "for i in range(len(features)):\n",
    "    location=(features[i]['geometry']['coordinates'][1],features[i]['geometry']['coordinates'][0])\n",
    "    Name = features[i]['properties']['Name']\n",
    "#     print(PSSE_New_BUS)\n",
    "#     PSSE_New_BUS = str(PSSE_New_BUS)\n",
    "    CITY = features[i]['properties']['CITY']\n",
    "\n",
    "    SCHOOLNAME = features[i]['properties']['SCHOOLNAME']\n",
    "    ADDRESS = features[i]['properties']['ADDRESS']\n",
    "#     County = str(County)\n",
    "\n",
    "    marker = Marker(location=location,draggable=False)\n",
    "    message2 = HTML()\n",
    "    message2.value =\"Name: \"+str(Name)+'<br>'+\"CITY \"+str(CITY)\\\n",
    "                    +'<br>'+'SCHOOLNAME: '+str(SCHOOLNAME)+'<br>'+'ADDRESS: '+str(ADDRESS)\n",
    "    \n",
    "    marker.icon = AwesomeIcon(name='battery',marker_color='red',icon_color='black', spin=False)\n",
    "\n",
    "    marker.popup = message2\n",
    "    marker_c.append(marker)\n",
    "marker_cluster = MarkerCluster(markers =marker_c)   \n",
    "m.add_layer(marker_cluster)"
   ]
  },
  {
   "cell_type": "code",
   "execution_count": null,
   "metadata": {},
   "outputs": [],
   "source": []
  },
  {
   "cell_type": "code",
   "execution_count": null,
   "metadata": {},
   "outputs": [],
   "source": []
  },
  {
   "cell_type": "code",
   "execution_count": null,
   "metadata": {},
   "outputs": [],
   "source": []
  },
  {
   "cell_type": "code",
   "execution_count": null,
   "metadata": {},
   "outputs": [],
   "source": []
  },
  {
   "cell_type": "code",
   "execution_count": null,
   "metadata": {},
   "outputs": [],
   "source": []
  },
  {
   "cell_type": "code",
   "execution_count": null,
   "metadata": {},
   "outputs": [],
   "source": []
  },
  {
   "cell_type": "code",
   "execution_count": null,
   "metadata": {},
   "outputs": [],
   "source": []
  }
 ],
 "metadata": {
  "kernelspec": {
   "display_name": "Python 3",
   "language": "python",
   "name": "python3"
  },
  "language_info": {
   "codemirror_mode": {
    "name": "ipython",
    "version": 3
   },
   "file_extension": ".py",
   "mimetype": "text/x-python",
   "name": "python",
   "nbconvert_exporter": "python",
   "pygments_lexer": "ipython3",
   "version": "3.7.4"
  }
 },
 "nbformat": 4,
 "nbformat_minor": 4
}
